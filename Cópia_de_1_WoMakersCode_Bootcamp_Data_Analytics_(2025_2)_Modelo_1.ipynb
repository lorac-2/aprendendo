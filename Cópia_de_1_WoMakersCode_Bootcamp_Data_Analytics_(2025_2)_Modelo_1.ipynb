{
  "nbformat": 4,
  "nbformat_minor": 0,
  "metadata": {
    "colab": {
      "provenance": [],
      "include_colab_link": true
    },
    "kernelspec": {
      "name": "python3",
      "display_name": "Python 3"
    },
    "language_info": {
      "name": "python"
    }
  },
  "cells": [
    {
      "cell_type": "markdown",
      "metadata": {
        "id": "view-in-github",
        "colab_type": "text"
      },
      "source": [
        "<a href=\"https://colab.research.google.com/github/lorac-2/aprendendo/blob/main/C%C3%B3pia_de_1_WoMakersCode_Bootcamp_Data_Analytics_(2025_2)_Modelo_1.ipynb\" target=\"_parent\"><img src=\"https://colab.research.google.com/assets/colab-badge.svg\" alt=\"Open In Colab\"/></a>"
      ]
    },
    {
      "cell_type": "markdown",
      "source": [
        "DESAFIO 1\n",
        "\n",
        "Solicite o peso de uma encomenda e calcule o frete com base na faixa de peso:\n",
        "\n",
        "Até 1kg → R$5\n",
        "\n",
        "1 a 5kg → R$10\n",
        "\n",
        "Acima de 5kg → R$20"
      ],
      "metadata": {
        "id": "fZu819fMQNKI"
      }
    },
    {
      "cell_type": "code",
      "source": [
        "# Solicita o peso da encomenda\n",
        "peso = float(input(\"Digite o peso da encomenda em kg: \"))\n",
        "# Calcula o frete com base na faixa de peso\n",
        "if peso <= 1:\n",
        "    frete = 5\n",
        "elif peso <= 5:\n",
        "    frete = 10\n",
        "else:\n",
        "    frete = 20\n",
        "# Exibe o valor do frete\n",
        "print(f\"o valor do frete é R${frete:.2f}\")"
      ],
      "metadata": {
        "id": "tjM2VWBwQSJE",
        "colab": {
          "base_uri": "https://localhost:8080/"
        },
        "outputId": "1cd8c057-7f22-489f-a1c9-8cb312804aaf"
      },
      "execution_count": null,
      "outputs": [
        {
          "output_type": "stream",
          "name": "stdout",
          "text": [
            "Digite o peso da encomenda em kg: 7\n",
            "o valor do frete é R$20.00\n"
          ]
        }
      ]
    },
    {
      "cell_type": "markdown",
      "source": [
        "DESAFIO 2\n",
        "\n",
        "Escreva um programa que receba uma string e conte quantas consoantes ela contém (ignorando espaços e pontuação)."
      ],
      "metadata": {
        "id": "_m8mBod2g9Iv"
      }
    },
    {
      "cell_type": "code",
      "source": [
        "#Importa a biblioteca para lidar com a pontuação\n",
        "import string\n",
        "# Solicita a string ao usuário\n",
        "texto = input(\"Digite uma frase:\")\n",
        "#Define as vogais\n",
        "vogais = \"aeiouAEIOU\"\n",
        "# Remove espaços e pontuação\n",
        "texto_filtrado = \"\".join(char for char in texto if char.isalpha())\n",
        "# Conta as  consoantes\n",
        "consoantes = [char for char in texto_filtrado if char not in vogais]\n",
        "quantidade = len(consoantes)\n",
        "# Exibe o resultado\n",
        "print(f\"A frase contém {(quantidade)} consoantes.\")"
      ],
      "metadata": {
        "id": "G3MkSdjIfMay",
        "colab": {
          "base_uri": "https://localhost:8080/"
        },
        "outputId": "541e8a2f-941b-462b-f20b-f09f2fd68589"
      },
      "execution_count": null,
      "outputs": [
        {
          "output_type": "stream",
          "name": "stdout",
          "text": [
            "Digite uma frase:oi\n",
            "A frase contém 0 consoantes.\n"
          ]
        }
      ]
    },
    {
      "cell_type": "markdown",
      "source": [
        "DESAFIO 3\n",
        "\n",
        "O computador escolhe um número aleatório entre 1 e 100.\n",
        "O usuário tenta adivinhar, e o programa dá dicas como:\n",
        "\n",
        "\"Muito frio\" se a diferença for maior que 30\n",
        "\n",
        "\"Frio\" se a diferença for entre 16 e 30\n",
        "\n",
        "\"Quente\" se for entre 6 e 15\n",
        "\n",
        "\"Muito quente\" se for 5 ou menos\n",
        "\n",
        "Repita até o usuário acertar.\n",
        "\n"
      ],
      "metadata": {
        "id": "azEJl_Q6cFFz"
      }
    },
    {
      "cell_type": "code",
      "source": [
        "\n",
        "import random\n",
        "# Gera um número aleatório entre 1 e 100.\n",
        "numero_secreto = random.randint(1, 100)\n",
        "tentativas = 0\n",
        "acertou = False\n",
        "print(\"Tente advinhar o numero entre 1 e 100!\")\n",
        "while not acertou:\n",
        "    palpite = int(input(\"Digite seu palpite: \"))\n",
        "    tentativas += 1\n",
        "    diferenca = abs(palpite-numero_secreto)\n",
        "    if palpite  == numero_secreto:\n",
        "       print(f\"Parabéns! Você acertou o número em {tentativas} tentativas.\")\n",
        "       acertou = True\n",
        "    else:\n",
        "       if diferenca > 30:\n",
        "           print(\"Muito frio!\")\n",
        "       elif diferenca >= 15:\n",
        "           print(\"Frio!\")\n",
        "       elif diferenca >= 5:\n",
        "           print(\"Quente!\")\n",
        "       else:\n",
        "           print(\"Muito quente!\")\n",
        "\n"
      ],
      "metadata": {
        "id": "4kz8g_Z5qGB1",
        "colab": {
          "base_uri": "https://localhost:8080/",
          "height": 373
        },
        "outputId": "4c835b67-429b-47eb-83fc-57ed1edc9879"
      },
      "execution_count": null,
      "outputs": [
        {
          "output_type": "stream",
          "name": "stdout",
          "text": [
            "Tente advinhar o numero entre 1 e 100!\n"
          ]
        },
        {
          "output_type": "error",
          "ename": "KeyboardInterrupt",
          "evalue": "Interrupted by user",
          "traceback": [
            "\u001b[0;31m---------------------------------------------------------------------------\u001b[0m",
            "\u001b[0;31mKeyboardInterrupt\u001b[0m                         Traceback (most recent call last)",
            "\u001b[0;32m/tmp/ipython-input-21-2901329116.py\u001b[0m in \u001b[0;36m<cell line: 0>\u001b[0;34m()\u001b[0m\n\u001b[1;32m      6\u001b[0m \u001b[0mprint\u001b[0m\u001b[0;34m(\u001b[0m\u001b[0;34m\"Tente advinhar o numero entre 1 e 100!\"\u001b[0m\u001b[0;34m)\u001b[0m\u001b[0;34m\u001b[0m\u001b[0;34m\u001b[0m\u001b[0m\n\u001b[1;32m      7\u001b[0m \u001b[0;32mwhile\u001b[0m \u001b[0;32mnot\u001b[0m \u001b[0macertou\u001b[0m\u001b[0;34m:\u001b[0m\u001b[0;34m\u001b[0m\u001b[0;34m\u001b[0m\u001b[0m\n\u001b[0;32m----> 8\u001b[0;31m     \u001b[0mpalpite\u001b[0m \u001b[0;34m=\u001b[0m \u001b[0mint\u001b[0m\u001b[0;34m(\u001b[0m\u001b[0minput\u001b[0m\u001b[0;34m(\u001b[0m\u001b[0;34m\"Digite seu palpite: \"\u001b[0m\u001b[0;34m)\u001b[0m\u001b[0;34m)\u001b[0m\u001b[0;34m\u001b[0m\u001b[0;34m\u001b[0m\u001b[0m\n\u001b[0m\u001b[1;32m      9\u001b[0m     \u001b[0mtentativas\u001b[0m \u001b[0;34m+=\u001b[0m \u001b[0;36m1\u001b[0m\u001b[0;34m\u001b[0m\u001b[0;34m\u001b[0m\u001b[0m\n\u001b[1;32m     10\u001b[0m     \u001b[0mdiferenca\u001b[0m \u001b[0;34m=\u001b[0m \u001b[0mabs\u001b[0m\u001b[0;34m(\u001b[0m\u001b[0mpalpite\u001b[0m\u001b[0;34m-\u001b[0m\u001b[0mnumero_secreto\u001b[0m\u001b[0;34m)\u001b[0m\u001b[0;34m\u001b[0m\u001b[0;34m\u001b[0m\u001b[0m\n",
            "\u001b[0;32m/usr/local/lib/python3.11/dist-packages/ipykernel/kernelbase.py\u001b[0m in \u001b[0;36mraw_input\u001b[0;34m(self, prompt)\u001b[0m\n\u001b[1;32m   1175\u001b[0m                 \u001b[0;34m\"raw_input was called, but this frontend does not support input requests.\"\u001b[0m\u001b[0;34m\u001b[0m\u001b[0;34m\u001b[0m\u001b[0m\n\u001b[1;32m   1176\u001b[0m             )\n\u001b[0;32m-> 1177\u001b[0;31m         return self._input_request(\n\u001b[0m\u001b[1;32m   1178\u001b[0m             \u001b[0mstr\u001b[0m\u001b[0;34m(\u001b[0m\u001b[0mprompt\u001b[0m\u001b[0;34m)\u001b[0m\u001b[0;34m,\u001b[0m\u001b[0;34m\u001b[0m\u001b[0;34m\u001b[0m\u001b[0m\n\u001b[1;32m   1179\u001b[0m             \u001b[0mself\u001b[0m\u001b[0;34m.\u001b[0m\u001b[0m_parent_ident\u001b[0m\u001b[0;34m[\u001b[0m\u001b[0;34m\"shell\"\u001b[0m\u001b[0;34m]\u001b[0m\u001b[0;34m,\u001b[0m\u001b[0;34m\u001b[0m\u001b[0;34m\u001b[0m\u001b[0m\n",
            "\u001b[0;32m/usr/local/lib/python3.11/dist-packages/ipykernel/kernelbase.py\u001b[0m in \u001b[0;36m_input_request\u001b[0;34m(self, prompt, ident, parent, password)\u001b[0m\n\u001b[1;32m   1217\u001b[0m             \u001b[0;32mexcept\u001b[0m \u001b[0mKeyboardInterrupt\u001b[0m\u001b[0;34m:\u001b[0m\u001b[0;34m\u001b[0m\u001b[0;34m\u001b[0m\u001b[0m\n\u001b[1;32m   1218\u001b[0m                 \u001b[0;31m# re-raise KeyboardInterrupt, to truncate traceback\u001b[0m\u001b[0;34m\u001b[0m\u001b[0;34m\u001b[0m\u001b[0m\n\u001b[0;32m-> 1219\u001b[0;31m                 \u001b[0;32mraise\u001b[0m \u001b[0mKeyboardInterrupt\u001b[0m\u001b[0;34m(\u001b[0m\u001b[0;34m\"Interrupted by user\"\u001b[0m\u001b[0;34m)\u001b[0m \u001b[0;32mfrom\u001b[0m \u001b[0;32mNone\u001b[0m\u001b[0;34m\u001b[0m\u001b[0;34m\u001b[0m\u001b[0m\n\u001b[0m\u001b[1;32m   1220\u001b[0m             \u001b[0;32mexcept\u001b[0m \u001b[0mException\u001b[0m\u001b[0;34m:\u001b[0m\u001b[0;34m\u001b[0m\u001b[0;34m\u001b[0m\u001b[0m\n\u001b[1;32m   1221\u001b[0m                 \u001b[0mself\u001b[0m\u001b[0;34m.\u001b[0m\u001b[0mlog\u001b[0m\u001b[0;34m.\u001b[0m\u001b[0mwarning\u001b[0m\u001b[0;34m(\u001b[0m\u001b[0;34m\"Invalid Message:\"\u001b[0m\u001b[0;34m,\u001b[0m \u001b[0mexc_info\u001b[0m\u001b[0;34m=\u001b[0m\u001b[0;32mTrue\u001b[0m\u001b[0;34m)\u001b[0m\u001b[0;34m\u001b[0m\u001b[0;34m\u001b[0m\u001b[0m\n",
            "\u001b[0;31mKeyboardInterrupt\u001b[0m: Interrupted by user"
          ]
        }
      ]
    },
    {
      "cell_type": "markdown",
      "source": [
        "DESAFIO 4\n",
        "\n",
        "Crie um programa para gerenciar uma agenda simples com estas funcionalidades:\n",
        "\n",
        "Adicionar um contato (nome e telefone)\n",
        "\n",
        "Visualizar todos os contatos\n",
        "\n",
        "Buscar um contato pelo nome\n",
        "\n",
        "Remover um contato\n",
        "\n",
        "Sair do programa\n",
        "\n",
        "Use uma lista de dicionários para armazenar os contatos."
      ],
      "metadata": {
        "id": "qk4Gw-GAqFjY"
      }
    },
    {
      "cell_type": "code",
      "source": [
        "# Agenda com lista de dicionários\n",
        "agenda = []\n",
        "def adicionar_contato():\n",
        "    nome = input(\"Digite o nome do contato: \")\n",
        "    telefone = input(\"Digite o telefone do contato: \")\n",
        "    contato = {\"nome\": nome, \"telefone\": telefone}\n",
        "    agenda.append(contato)\n",
        "    print(\"Contato adicionado com sucesso!\")\n",
        "def visualizar_contatos():\n",
        "    if not agenda:\n",
        "        print(\"A agenda está vazia.\\n\")\n",
        "    else:\n",
        "        print(\"Contatos na agenda:\\n\")\n",
        "        for contato in agenda:\n",
        "            print(f\"Nome: {contato['nome']}, Telefone: {contato['telefone']}\")\n",
        "            print()\n",
        "def buscar_contato():\n",
        "    nome_busca = input(\"Digite o nome do contato que deseja buscar:\")\n",
        "    encontrados = [c for c in agenda if c[\"nome\"].lower() == nome_busca.lower]\n",
        "    if encontrados:\n",
        "        for contato in encontrados:\n",
        "            print(f\"Nome: {contato['nome']}, Telefone: {contato['telefone']}\")\n",
        "    else:\n",
        "        print(\"Contato não encontrado.\")\n",
        "        print()\n",
        "def remover_contato():\n",
        "    nome_remover = input(\"Digite o nome do contato que deseja remover:\")\n",
        "    inicial = len(agenda)\n",
        "    agenda [:] = [c for c in agenda if c[\"nome\"].lower() != nome_remover.lower()]\n",
        "    if inicial > len(agenda):\n",
        "        print(\"Contato removido com sucesso!\")\n",
        "    else:\n",
        "        print(\"Contato não encontrado.\")\n",
        "def menu():\n",
        "    print(\"Escolha uma opção:\")\n",
        "    print(\"1. Adicionar contato\")\n",
        "    print(\"2. Visualizar contatos\")\n",
        "    print(\"3. Buscar contato\")\n",
        "    print(\"4. Remover contato\")\n",
        "    print(\"5. Sair\")\n",
        "    opcao = input(\"Digite o número da opção desejada: \")\n",
        "    if opcao == \"1\":\n",
        "      adicionar_contato()\n",
        "    elif opcao == \"2\":\n",
        "      visualizar_contatos()\n",
        "    elif opcao == \"3\":\n",
        "      buscar_contato()\n",
        "    elif opcao == \"4\":\n",
        "      remover_contato()\n",
        "    elif opcao == \"5\":\n",
        "      print(\"Saindo do programa. Até logo!\")\n",
        "    elif opcao == \"6\":\n",
        "      print(\"Opção inválida. Tente novamente.\")\n",
        "      menu()\n",
        "      menu()\n"
      ],
      "metadata": {
        "id": "FOtsBTYecOUJ"
      },
      "execution_count": null,
      "outputs": []
    },
    {
      "cell_type": "markdown",
      "source": [
        "DESAFIO 5\n",
        "\n",
        "Peça ao usuário o peso (kg) e a altura (m) e calcule o IMC = peso / altura².\n",
        "\n",
        "Mostre o valor do IMC e a classificação:\n",
        "\n",
        "Abaixo de 18.5: Abaixo do peso\n",
        "\n",
        "18.5 a 24.9: Peso normal\n",
        "\n",
        "25 a 29.9: Sobrepeso\n",
        "\n",
        "30 ou mais: Obesidade"
      ],
      "metadata": {
        "id": "cpVCv8m5QNm9"
      }
    },
    {
      "cell_type": "code",
      "source": [
        "# Calculadora de IMC\n",
        "\n",
        "def calcular_imc():\n",
        "  try:\n",
        "    peso  = float(input(\"Digite seu peso em kg: \"))\n",
        "    altura = float(input(\"Digite sua altura em metros: \"))\n",
        "    imc = peso / (altura ** 2)\n",
        "    print(f\"Seu IMC é: {imc:.2f}\")\n",
        "    if imc < 18.5:\n",
        "      print(\"Você está abaixo do peso.\")\n",
        "    elif 18.5 <= imc < 24.9:\n",
        "      print(\"Peso ideal.\")\n",
        "    elif 25 <= imc < 29.9:\n",
        "      print(\"Sobrepeso.\")\n",
        "    elif 29.9 <= imc < 35:\n",
        "      print(\"Você está com obesidade grau I.\")\n",
        "    elif 35 <= imc <= 40:\n",
        "\n",
        "      print(\"Você está com obesidade grau II.\")\n",
        "    else: # imc > 40\n",
        "       print(\"Você está com obesidade grau III.\")\n",
        "\n",
        "  except ValueError:\n",
        "        print(\"Entrada inválida. Certifique-se de digitar números válidos.\")\n",
        "  except ZeroDivisionError:\n",
        "        print(\"Altura não pode ser zero.\")\n",
        "\n",
        "calcular_imc()"
      ],
      "metadata": {
        "id": "rGHbvDFVcGzy",
        "colab": {
          "base_uri": "https://localhost:8080/"
        },
        "outputId": "73026990-8878-4a63-9491-d0011b6cc873"
      },
      "execution_count": null,
      "outputs": [
        {
          "output_type": "stream",
          "name": "stdout",
          "text": [
            "Digite seu peso em kg: 74\n",
            "Digite sua altura em metros: 1.63\n",
            "Seu IMC é: 27.85\n",
            "Sobrepeso.\n"
          ]
        }
      ]
    }
  ]
}