{
  "nbformat": 4,
  "nbformat_minor": 0,
  "metadata": {
    "colab": {
      "provenance": [],
      "include_colab_link": true
    },
    "kernelspec": {
      "name": "python3",
      "display_name": "Python 3"
    },
    "language_info": {
      "name": "python"
    }
  },
  "cells": [
    {
      "cell_type": "markdown",
      "metadata": {
        "id": "view-in-github",
        "colab_type": "text"
      },
      "source": [
        "<a href=\"https://colab.research.google.com/github/lorac-2/aprendendo/blob/main/1_WoMakersCode_Bootcamp_Data_Analytics_(2025_2)_Modelo_1.ipynb\" target=\"_parent\"><img src=\"https://colab.research.google.com/assets/colab-badge.svg\" alt=\"Open In Colab\"/></a>"
      ]
    },
    {
      "cell_type": "markdown",
      "source": [
        "DESAFIO 1\n",
        "\n",
        "Solicite o peso de uma encomenda e calcule o frete com base na faixa de peso:\n",
        "\n",
        "Até 1kg → R$5\n",
        "\n",
        "1 a 5kg → R$10\n",
        "\n",
        "Acima de 5kg → R$20"
      ],
      "metadata": {
        "id": "fZu819fMQNKI"
      }
    },
    {
      "cell_type": "code",
      "source": [
        "#Execute seu código aqui"
      ],
      "metadata": {
        "id": "tjM2VWBwQSJE"
      },
      "execution_count": null,
      "outputs": []
    },
    {
      "cell_type": "markdown",
      "source": [
        "DESAFIO 2\n",
        "\n",
        "Escreva um programa que receba uma string e conte quantas consoantes ela contém (ignorando espaços e pontuação)."
      ],
      "metadata": {
        "id": "_m8mBod2g9Iv"
      }
    },
    {
      "cell_type": "code",
      "source": [
        "#Execute seu código aqui"
      ],
      "metadata": {
        "id": "G3MkSdjIfMay"
      },
      "execution_count": null,
      "outputs": []
    },
    {
      "cell_type": "markdown",
      "source": [
        "DESAFIO 3\n",
        "\n",
        "O computador escolhe um número aleatório entre 1 e 100.\n",
        "O usuário tenta adivinhar, e o programa dá dicas como:\n",
        "\n",
        "\"Muito frio\" se a diferença for maior que 30\n",
        "\n",
        "\"Frio\" se a diferença for entre 16 e 30\n",
        "\n",
        "\"Quente\" se for entre 6 e 15\n",
        "\n",
        "\"Muito quente\" se for 5 ou menos\n",
        "\n",
        "Repita até o usuário acertar.\n",
        "\n"
      ],
      "metadata": {
        "id": "azEJl_Q6cFFz"
      }
    },
    {
      "cell_type": "code",
      "source": [
        "#Execute seu código aqui"
      ],
      "metadata": {
        "id": "4kz8g_Z5qGB1"
      },
      "execution_count": null,
      "outputs": []
    },
    {
      "cell_type": "markdown",
      "source": [
        "DESAFIO 4\n",
        "\n",
        "Crie um programa para gerenciar uma agenda simples com estas funcionalidades:\n",
        "\n",
        "Adicionar um contato (nome e telefone)\n",
        "\n",
        "Visualizar todos os contatos\n",
        "\n",
        "Buscar um contato pelo nome\n",
        "\n",
        "Remover um contato\n",
        "\n",
        "Sair do programa\n",
        "\n",
        "Use uma lista de dicionários para armazenar os contatos."
      ],
      "metadata": {
        "id": "qk4Gw-GAqFjY"
      }
    },
    {
      "cell_type": "code",
      "source": [
        "#Execute seu código aqui"
      ],
      "metadata": {
        "id": "FOtsBTYecOUJ"
      },
      "execution_count": null,
      "outputs": []
    },
    {
      "cell_type": "markdown",
      "source": [
        "DESAFIO 5\n",
        "\n",
        "Peça ao usuário o peso (kg) e a altura (m) e calcule o IMC = peso / altura².\n",
        "\n",
        "Mostre o valor do IMC e a classificação:\n",
        "\n",
        "Abaixo de 18.5: Abaixo do peso\n",
        "\n",
        "18.5 a 24.9: Peso normal\n",
        "\n",
        "25 a 29.9: Sobrepeso\n",
        "\n",
        "30 ou mais: Obesidade"
      ],
      "metadata": {
        "id": "cpVCv8m5QNm9"
      }
    },
    {
      "cell_type": "code",
      "source": [
        "#Execute seu código aqui"
      ],
      "metadata": {
        "id": "rGHbvDFVcGzy"
      },
      "execution_count": null,
      "outputs": []
    }
  ]
}